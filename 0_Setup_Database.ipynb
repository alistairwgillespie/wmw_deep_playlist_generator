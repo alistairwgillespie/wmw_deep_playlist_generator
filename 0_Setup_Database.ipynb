{
 "cells": [
  {
   "cell_type": "markdown",
   "metadata": {},
   "source": [
    "# Wilson's Morning Wake Up Playlist Generator, Database Setup"
   ]
  },
  {
   "cell_type": "code",
   "execution_count": 12,
   "metadata": {},
   "outputs": [],
   "source": [
    "import sqlite3\n",
    "from sqlite3 import Error"
   ]
  },
  {
   "cell_type": "markdown",
   "metadata": {},
   "source": [
    "## Create Database"
   ]
  },
  {
   "cell_type": "code",
   "execution_count": null,
   "metadata": {},
   "outputs": [],
   "source": [
    "# Create sqlite3 database\n",
    "# cd c:\\sqlite\n",
    "# mkdir wmw"
   ]
  },
  {
   "cell_type": "code",
   "execution_count": 3,
   "metadata": {},
   "outputs": [],
   "source": [
    "database = r\"C:\\sqlite\\wmw\\wmw.db\""
   ]
  },
  {
   "cell_type": "code",
   "execution_count": 5,
   "metadata": {},
   "outputs": [
    {
     "name": "stdout",
     "output_type": "stream",
     "text": [
      "2.6.0\n"
     ]
    }
   ],
   "source": [
    "def create_initial_connection(db_file):\n",
    "    \"\"\" create a database connection to a SQLite database \"\"\"\n",
    "    conn = None\n",
    "    try:\n",
    "        conn = sqlite3.connect(db_file)\n",
    "        print(sqlite3.version)\n",
    "    except Error as e:\n",
    "        print(e)\n",
    "    finally:\n",
    "        if conn:\n",
    "            conn.close()\n",
    "            \n",
    "if __name__ == '__main__':\n",
    "    create_initial_connection(r\"C:\\sqlite\\wmw\\wmw.db\")"
   ]
  },
  {
   "cell_type": "markdown",
   "metadata": {},
   "source": [
    "## Create Tables"
   ]
  },
  {
   "cell_type": "code",
   "execution_count": 18,
   "metadata": {},
   "outputs": [],
   "source": [
    "def create_connection(db_file):\n",
    "    \"\"\" create a database connection to a SQLite database \"\"\"\n",
    "    \n",
    "    conn = None\n",
    "    \n",
    "    try:\n",
    "        conn = sqlite3.connect(db_file)\n",
    "        print(sqlite3.version)\n",
    "        return conn\n",
    "    except Error as e:\n",
    "        print(e)"
   ]
  },
  {
   "cell_type": "code",
   "execution_count": 19,
   "metadata": {},
   "outputs": [],
   "source": [
    "def create_table(conn, create_table_sql):\n",
    "    \"\"\" create a table from the create_table_sql statement\n",
    "    :param conn: Connection object\n",
    "    :param create_table_sql: a CREATE TABLE statement\n",
    "    :return:\n",
    "    \"\"\"\n",
    "    try:\n",
    "        c = conn.cursor()\n",
    "        c.execute(create_table_sql)\n",
    "    except Error as e:\n",
    "        print(e)"
   ]
  },
  {
   "cell_type": "code",
   "execution_count": 35,
   "metadata": {},
   "outputs": [],
   "source": [
    "def main():\n",
    "     \n",
    "    # Create playlists table\n",
    "    sql_create_playlists_table = \"\"\"CREATE TABLE IF NOT EXISTS playlists (\n",
    "                                        id text PRIMARY KEY,\n",
    "                                        name text NOT NULL,\n",
    "                                        type text NOT NULL\n",
    "                                    ); \"\"\"\n",
    "    \n",
    "    # Create playlist/tracks join table\n",
    "    sql_create_playlist_tracks_table = \"\"\"CREATE TABLE IF NOT EXISTS playlists_tracks (\n",
    "                                            id integer PRIMARY KEY,\n",
    "                                            playlist_id text NOT NULL,\n",
    "                                            track_id text NOT NULL\n",
    "                                        );\"\"\"\n",
    " \n",
    "    # Create tracks table\n",
    "    sql_create_tracks_table = \"\"\"CREATE TABLE IF NOT EXISTS tracks (\n",
    "                                    id text PRIMARY KEY,\n",
    "                                    track_name text NOT NULL,\n",
    "                                    track_href text NOT NULL,\n",
    "                                    duration_ms integer NOT NULL,\n",
    "                                    danceability integer NOT NULL,\n",
    "                                    energy integer NOT NULL,\n",
    "                                    loudness integer NOT NULL,\n",
    "                                    speechiness integer NOT NULL,\n",
    "                                    acousticness integer NOT NULL, \n",
    "                                    instrumentalness integer NOT NULL,\n",
    "                                    liveness integer NOT NULL,\n",
    "                                    valence integer NOT NULL,\n",
    "                                    tempo integer NOT NULL,\n",
    "                                    mode integer NOT NULL,\n",
    "                                    key integer NOT NULL,\n",
    "                                    playlist_id text NOT NULL,\n",
    "                                    FOREIGN KEY (playlist_id) REFERENCES playlists (id)\n",
    "                                );\"\"\"\n",
    "    \n",
    "    # Create artists/tracks join table\n",
    "    sql_create_tracks_artists_table = \"\"\"CREATE TABLE IF NOT EXISTS tracks_artists (\n",
    "                                            id integer PRIMARY KEY,\n",
    "                                            track_id text NOT NULL,\n",
    "                                            artist_id text NOT NULL\n",
    "                                        );\"\"\"\n",
    "    \n",
    "    # Create artists table\n",
    "    sql_create_artists_table = \"\"\"CREATE TABLE IF NOT EXISTS artists (\n",
    "                                    id text PRIMARY KEY,\n",
    "                                    artist_name text NOT NULL,\n",
    "                                    track_id text NOT NULL,\n",
    "                                    FOREIGN KEY (track_id) REFERENCES tracks (id)\n",
    "                                );\"\"\"\n",
    " \n",
    "    # Create a database connection\n",
    "    conn = create_connection(database)\n",
    " \n",
    "    # Create tables\n",
    "    try:\n",
    "        if conn is not None:\n",
    "            # create playlists table\n",
    "            create_table(conn, sql_create_playlists_table)\n",
    "            \n",
    "            # create playlists_tracks table\n",
    "            create_table(conn, sql_create_playlist_tracks_table)\n",
    "\n",
    "            # create tracks table\n",
    "            create_table(conn, sql_create_tracks_table)\n",
    "\n",
    "            # create tracks_artists join table\n",
    "            create_table(conn, sql_create_tracks_artists_table)\n",
    "            \n",
    "            # create artists table\n",
    "            create_table(conn, sql_create_artists_table)\n",
    "            \n",
    "            \n",
    "    except Error as e:\n",
    "        print(e)\n",
    "    finally:\n",
    "        if conn:\n",
    "            conn.close()"
   ]
  },
  {
   "cell_type": "code",
   "execution_count": 36,
   "metadata": {},
   "outputs": [
    {
     "name": "stdout",
     "output_type": "stream",
     "text": [
      "2.6.0\n"
     ]
    }
   ],
   "source": [
    "if __name__ == '__main__':\n",
    "    main()"
   ]
  },
  {
   "cell_type": "code",
   "execution_count": 34,
   "metadata": {},
   "outputs": [],
   "source": [
    "# # Connect to the demo database\n",
    "\n",
    "# connection  = sqlite3.connect(database)\n",
    "\n",
    " \n",
    "\n",
    "# # Get a cursor object\n",
    "\n",
    "# cursor      = connection.cursor()\n",
    "\n",
    " \n",
    "\n",
    "# # Execute the DROP Table SQL statement\n",
    "\n",
    "# # dropTableStatement = \"DROP TABLE artists\"\n",
    "\n",
    "# # cursor.execute(dropTableStatement)\n",
    "\n",
    "# # dropTableStatement = \"DROP TABLE playlists\"\n",
    "\n",
    "# # cursor.execute(dropTableStatement)\n",
    "\n",
    "# # dropTableStatement = \"DROP TABLE tracks_artists\"\n",
    "\n",
    "# # cursor.execute(dropTableStatement)\n",
    "\n",
    "# dropTableStatement = \"DROP TABLE playlist_tracks\"\n",
    "\n",
    "# cursor.execute(dropTableStatement)\n",
    "\n",
    "# dropTableStatement = \"DROP TABLE tracks\"\n",
    "\n",
    "# cursor.execute(dropTableStatement)\n",
    " \n",
    "\n",
    "# # Close the connection object\n",
    "\n",
    "# connection.close()"
   ]
  },
  {
   "cell_type": "markdown",
   "metadata": {},
   "source": [
    "## Ingest WMW Playlists"
   ]
  },
  {
   "cell_type": "code",
   "execution_count": 10,
   "metadata": {},
   "outputs": [],
   "source": [
    "def create_playlist(conn, playlist):\n",
    "    \"\"\"\n",
    "    Create a new playlist in the playlists table\n",
    "    :param conn:\n",
    "    :param playlist:\n",
    "    :return: playlist id\n",
    "    \"\"\"\n",
    "    sql = ''' INSERT INTO playlists(id, name, type)\n",
    "              VALUES(?,?,?) '''\n",
    "    cur = conn.cursor()\n",
    "    cur.execute(sql, playlist)\n",
    "    return cur.lastrowid"
   ]
  },
  {
   "cell_type": "code",
   "execution_count": null,
   "metadata": {},
   "outputs": [],
   "source": [
    "def create_track(conn, playlist):\n",
    "    \"\"\"\n",
    "    Create a new track in the tracks table\n",
    "    :param conn:\n",
    "    :param track:\n",
    "    :return: track_id\n",
    "    \"\"\"\n",
    "    sql = '''INSERT INTO tracks(id, track_name, track_href, duration_ms, danceability, energy, loudness, speechiness\n",
    "                acousticness, instrumentalness, liveness, valence, tempo, mode, key, playlist_id)\n",
    "              VALUES(?,?,?,?,?,?,?,?,?,?,?,?,?,?,?,?,?,?)'''\n",
    "    cur = conn.cursor()\n",
    "    cur.execute(sql, playlist)\n",
    "    return cur.lastrowid"
   ]
  },
  {
   "cell_type": "code",
   "execution_count": null,
   "metadata": {},
   "outputs": [],
   "source": [
    "def create_track_artist(conn, tracK_artist):\n",
    "    \"\"\"\n",
    "    Create a new track in the tracks table\n",
    "    :param conn:\n",
    "    :param track:\n",
    "    :return: track_id\n",
    "    \"\"\"\n",
    "    sql = '''INSERT INTO tracks(id, track_name, track_href, duration_ms, danceability, energy, loudness, speechiness\n",
    "                acousticness, instrumentalness, liveness, valence, tempo, mode, key, playlist_id)\n",
    "              VALUES(?,?,?,?,?,?,?,?,?,?,?,?,?,?,?,?,?,?)'''\n",
    "    cur = conn.cursor()\n",
    "    cur.execute(sql, playlist)\n",
    "    return cur.lastrowid"
   ]
  },
  {
   "cell_type": "code",
   "execution_count": null,
   "metadata": {},
   "outputs": [],
   "source": [
    "def create_artist(conn, artist):\n",
    "    \"\"\"\n",
    "    Create a new track in the tracks table\n",
    "    :param conn:\n",
    "    :param artist:\n",
    "    :return: artist_id\n",
    "    \"\"\"\n",
    "    sql = '''INSERT INTO artists(id, artist_name, track_id, duration_ms, danceability, energy, loudness, speechiness\n",
    "                acousticness, instrumentalness, liveness, valence, tempo, mode, key, playlist_id)\n",
    "              VALUES(?,?,?,?,?,?,?,?,?,?,?,?,?,?,?,?,?,?)'''\n",
    "    cur = conn.cursor()\n",
    "    cur.execute(sql, playlist)\n",
    "    return cur.lastrowid"
   ]
  }
 ],
 "metadata": {
  "kernelspec": {
   "display_name": "local_wmw",
   "language": "python",
   "name": "local_wmw"
  },
  "language_info": {
   "codemirror_mode": {
    "name": "ipython",
    "version": 3
   },
   "file_extension": ".py",
   "mimetype": "text/x-python",
   "name": "python",
   "nbconvert_exporter": "python",
   "pygments_lexer": "ipython3",
   "version": "3.6.10"
  }
 },
 "nbformat": 4,
 "nbformat_minor": 4
}
